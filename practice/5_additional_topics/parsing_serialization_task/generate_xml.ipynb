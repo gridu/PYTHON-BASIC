{
 "cells": [
  {
   "cell_type": "code",
   "execution_count": 172,
   "metadata": {},
   "outputs": [],
   "source": [
    "from lxml import etree\n",
    "from statistics import mean\n",
    "from os import walk\n",
    "import os\n",
    "import pandas as pd\n",
    "import json"
   ]
  },
  {
   "cell_type": "code",
   "execution_count": 173,
   "metadata": {},
   "outputs": [],
   "source": [
    "root = etree.Element(\"weather\", attrib={\"country\": \"Spain\", \"date\": \"2021-09-25\"})\n",
    "summary_attrs = [\"mean_temp\", \"mean_wind_speed\", \"coldest_place\", \"warmest_place\", \"windiest_place\"]\n",
    "summary = etree.SubElement(root, \"summary\", attrib=dict.fromkeys(summary_attrs, \"\"))\n",
    "cities = etree.SubElement(root, \"cities\")"
   ]
  },
  {
   "cell_type": "code",
   "execution_count": 174,
   "metadata": {},
   "outputs": [],
   "source": [
    "source_data_path = '/Users/tiasalmon/Documents/Python_Basics/python_basic/practice/5_additional_topics/parsing_serialization_task/source_data'\n",
    "\n",
    "f = []\n",
    "d = []\n",
    "for (dirpath, dirnames, filenames) in walk(source_data_path):\n",
    "    f.extend(filenames)\n",
    "    d.extend(dirnames)"
   ]
  },
  {
   "cell_type": "code",
   "execution_count": 175,
   "metadata": {},
   "outputs": [
    {
     "data": {
      "text/plain": [
       "17"
      ]
     },
     "execution_count": 175,
     "metadata": {},
     "output_type": "execute_result"
    }
   ],
   "source": [
    "city_attrs = [\"mean_temp\", \"mean_wind_speed\", \"min_temp\", \"min_wind_speed\", \"max_temp\", \"max_wind_speed\"]\n",
    "summary_mean_temp = summary_mean_wind_speed = summary_max_temp = summary_max_wind = 0\n",
    "summary_min_temp  = 9999999\n",
    "summary_coldest_place = summary_warmest_place = summary_windiest_place = \"\"\n",
    "    \n",
    "for dir in d:\n",
    "    file = os.path.join(*[source_data_path, dir, '2021_09_25.json'])\n",
    "    with open(file, \"r\", encoding=\"utf-8\") as user_file:\n",
    "        contents = user_file.read()\n",
    "    new_tag = etree.SubElement(cities, dir.replace(\" \", \"-\"), attrib=dict.fromkeys(city_attrs, \"\"))\n",
    "    data = json.loads(contents)\n",
    "    hourly_data = data['hourly']\n",
    "    hourly_df = pd.DataFrame(hourly_data)\n",
    "    mean_temp = round(hourly_df['temp'].mean(), 2)\n",
    "    mean_wind_speed = round(hourly_df['wind_speed'].mean(), 2)\n",
    "    min_temp = round(hourly_df['temp'].min(), 2)\n",
    "    max_temp = round(hourly_df['temp'].max(), 2)\n",
    "    max_wind_speed = round(hourly_df['wind_speed'].max(), 2)\n",
    "    min_wind_speed = round(hourly_df['wind_speed'].min(), 2)\n",
    "    new_tag.attrib['mean_temp'] = str(mean_temp)\n",
    "    new_tag.attrib['mean_wind_speed'] = str(mean_wind_speed)\n",
    "    new_tag.attrib['min_temp'] = str(min_temp)\n",
    "    new_tag.attrib['min_wind_speed'] = str(min_wind_speed)\n",
    "    new_tag.attrib['max_temp'] = str(max_temp)\n",
    "    new_tag.attrib['max_wind_speed'] = str(max_wind_speed)\n",
    "\n",
    "    summary_mean_temp += mean_temp\n",
    "    summary_mean_wind_speed += mean_wind_speed\n",
    "\n",
    "    if min_temp < summary_min_temp:\n",
    "        summary_min_temp = min_temp \n",
    "        summary_coldest_place = dir\n",
    "\n",
    "    if max_temp > summary_max_temp:\n",
    "        summary_max_temp = max_temp \n",
    "        summary_warmest_place = dir\n",
    "\n",
    "    if max_wind_speed > summary_max_wind:\n",
    "        summary_max_wind = max_wind_speed \n",
    "        summary_windiest_place = dir\n",
    "\n",
    "summary_mean_temp = round(summary_mean_temp/len(d), 2)\n",
    "summary.attrib['mean_temp'] = str(summary_mean_temp)\n",
    "summary_mean_wind_speed = round(summary_mean_wind_speed/len(d), 2)\n",
    "summary.attrib['mean_wind_speed'] = str(summary_mean_wind_speed)\n",
    "summary.attrib['coldest_place'] = summary_coldest_place\n",
    "summary.attrib['warmest_place'] = summary_warmest_place\n",
    "summary.attrib['windiest_place'] = summary_windiest_place\n",
    "\n",
    "len(d)\n"
   ]
  },
  {
   "cell_type": "code",
   "execution_count": 176,
   "metadata": {},
   "outputs": [],
   "source": [
    "et = etree.ElementTree(root)\n",
    "et.write('spain-cities.xml', pretty_print=True)"
   ]
  },
  {
   "cell_type": "code",
   "execution_count": 177,
   "metadata": {},
   "outputs": [
    {
     "data": {
      "text/plain": [
       "['Oviedo',\n",
       " 'Barcelona',\n",
       " 'Valencia',\n",
       " 'Toledo',\n",
       " 'Valladolid',\n",
       " 'Seville',\n",
       " 'Pamplona',\n",
       " 'Santiago de Compostela',\n",
       " 'Madrid',\n",
       " 'Merida',\n",
       " 'Zaragoza',\n",
       " 'Santa Cruz de Tenerife',\n",
       " 'Santander',\n",
       " 'Palma',\n",
       " 'Murcia',\n",
       " 'Logrono',\n",
       " 'Vitoria-Gasteiz']"
      ]
     },
     "execution_count": 177,
     "metadata": {},
     "output_type": "execute_result"
    }
   ],
   "source": [
    "d"
   ]
  },
  {
   "cell_type": "code",
   "execution_count": 178,
   "metadata": {},
   "outputs": [
    {
     "name": "stdout",
     "output_type": "stream",
     "text": [
      "<weather country=\"Spain\" date=\"2021-09-25\">\n",
      "  <summary mean_temp=\"20.43\" mean_wind_speed=\"2.11\" coldest_place=\"Valladolid\" warmest_place=\"Palma\" windiest_place=\"Pamplona\"/>\n",
      "  <cities>\n",
      "    <Oviedo mean_temp=\"17.0\" mean_wind_speed=\"1.54\" min_temp=\"14.26\" min_wind_speed=\"0.17\" max_temp=\"21.96\" max_wind_speed=\"6.26\"/>\n",
      "    <Barcelona mean_temp=\"24.21\" mean_wind_speed=\"1.26\" min_temp=\"21.66\" min_wind_speed=\"0.45\" max_temp=\"27.38\" max_wind_speed=\"3.6\"/>\n",
      "    <Valencia mean_temp=\"23.31\" mean_wind_speed=\"1.45\" min_temp=\"20.9\" min_wind_speed=\"0.45\" max_temp=\"27.57\" max_wind_speed=\"4.47\"/>\n",
      "    <Toledo mean_temp=\"19.52\" mean_wind_speed=\"3.86\" min_temp=\"16.11\" min_wind_speed=\"1.34\" max_temp=\"23.49\" max_wind_speed=\"7.04\"/>\n",
      "    <Valladolid mean_temp=\"15.61\" mean_wind_speed=\"2.22\" min_temp=\"12.56\" min_wind_speed=\"0.45\" max_temp=\"19.51\" max_wind_speed=\"8.23\"/>\n",
      "    <Seville mean_temp=\"21.6\" mean_wind_speed=\"1.04\" min_temp=\"17.24\" min_wind_speed=\"0.45\" max_temp=\"27.13\" max_wind_speed=\"2.24\"/>\n",
      "    <Pamplona mean_temp=\"20.45\" mean_wind_speed=\"4.03\" min_temp=\"16.01\" min_wind_speed=\"0.51\" max_temp=\"25.76\" max_wind_speed=\"9.26\"/>\n",
      "    <Santiago-de-Compostela mean_temp=\"16.18\" mean_wind_speed=\"1.77\" min_temp=\"13.67\" min_wind_speed=\"0.0\" max_temp=\"19.84\" max_wind_speed=\"4.02\"/>\n",
      "    <Madrid mean_temp=\"17.89\" mean_wind_speed=\"2.64\" min_temp=\"14.66\" min_wind_speed=\"0.45\" max_temp=\"21.35\" max_wind_speed=\"4.92\"/>\n",
      "    <Merida mean_temp=\"19.53\" mean_wind_speed=\"2.88\" min_temp=\"15.38\" min_wind_speed=\"1.2\" max_temp=\"24.54\" max_wind_speed=\"4.62\"/>\n",
      "    <Zaragoza mean_temp=\"21.16\" mean_wind_speed=\"1.8\" min_temp=\"16.92\" min_wind_speed=\"0.45\" max_temp=\"26.61\" max_wind_speed=\"4.63\"/>\n",
      "    <Santa-Cruz-de-Tenerife mean_temp=\"22.18\" mean_wind_speed=\"1.91\" min_temp=\"19.63\" min_wind_speed=\"0.45\" max_temp=\"25.25\" max_wind_speed=\"4.02\"/>\n",
      "    <Santander mean_temp=\"19.85\" mean_wind_speed=\"2.03\" min_temp=\"16.92\" min_wind_speed=\"0.45\" max_temp=\"23.28\" max_wind_speed=\"4.02\"/>\n",
      "    <Palma mean_temp=\"26.22\" mean_wind_speed=\"1.66\" min_temp=\"22.91\" min_wind_speed=\"0.45\" max_temp=\"30.37\" max_wind_speed=\"6.26\"/>\n",
      "    <Murcia mean_temp=\"25.64\" mean_wind_speed=\"1.16\" min_temp=\"22.64\" min_wind_speed=\"0.42\" max_temp=\"30.26\" max_wind_speed=\"4.02\"/>\n",
      "    <Logrono mean_temp=\"19.13\" mean_wind_speed=\"2.67\" min_temp=\"16.35\" min_wind_speed=\"1.03\" max_temp=\"23.77\" max_wind_speed=\"7.72\"/>\n",
      "    <Vitoria-Gasteiz mean_temp=\"17.89\" mean_wind_speed=\"1.99\" min_temp=\"14.73\" min_wind_speed=\"0.45\" max_temp=\"22.95\" max_wind_speed=\"7.2\"/>\n",
      "  </cities>\n",
      "</weather>\n",
      "\n"
     ]
    }
   ],
   "source": [
    "print(etree.tostring(root, pretty_print=True).decode())"
   ]
  }
 ],
 "metadata": {
  "kernelspec": {
   "display_name": "Python 3",
   "language": "python",
   "name": "python3"
  },
  "language_info": {
   "codemirror_mode": {
    "name": "ipython",
    "version": 3
   },
   "file_extension": ".py",
   "mimetype": "text/x-python",
   "name": "python",
   "nbconvert_exporter": "python",
   "pygments_lexer": "ipython3",
   "version": "3.11.2"
  },
  "orig_nbformat": 4,
  "vscode": {
   "interpreter": {
    "hash": "aee8b7b246df8f9039afb4144a1f6fd8d2ca17a180786b69acc140d282b71a49"
   }
  }
 },
 "nbformat": 4,
 "nbformat_minor": 2
}
