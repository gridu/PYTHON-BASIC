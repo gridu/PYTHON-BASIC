{
 "cells": [
  {
   "cell_type": "code",
   "execution_count": 10,
   "metadata": {},
   "outputs": [
    {
     "name": "stdout",
     "output_type": "stream",
     "text": [
      "{'Profile URI': ['https://finance.yahoo.com/quote/SQ?p=SQ/profile', 'https://finance.yahoo.com/quote/TSLA?p=TSLA/profile', 'https://finance.yahoo.com/quote/FRC?p=FRC/profile', 'https://finance.yahoo.com/quote/CS?p=CS/profile', 'https://finance.yahoo.com/quote/AMD?p=AMD/profile', 'https://finance.yahoo.com/quote/BAC?p=BAC/profile', 'https://finance.yahoo.com/quote/COIN?p=COIN/profile', 'https://finance.yahoo.com/quote/CCL?p=CCL/profile', 'https://finance.yahoo.com/quote/AAPL?p=AAPL/profile', 'https://finance.yahoo.com/quote/NVDA?p=NVDA/profile', 'https://finance.yahoo.com/quote/F?p=F/profile', 'https://finance.yahoo.com/quote/AMZN?p=AMZN/profile', 'https://finance.yahoo.com/quote/SNAP?p=SNAP/profile', 'https://finance.yahoo.com/quote/ITUB?p=ITUB/profile', 'https://finance.yahoo.com/quote/BBD?p=BBD/profile', 'https://finance.yahoo.com/quote/SOFI?p=SOFI/profile', 'https://finance.yahoo.com/quote/IAA?p=IAA/profile', 'https://finance.yahoo.com/quote/NIO?p=NIO/profile', 'https://finance.yahoo.com/quote/BABA?p=BABA/profile', 'https://finance.yahoo.com/quote/GOOGL?p=GOOGL/profile', 'https://finance.yahoo.com/quote/HBAN?p=HBAN/profile', 'https://finance.yahoo.com/quote/SCHW?p=SCHW/profile', 'https://finance.yahoo.com/quote/MSFT?p=MSFT/profile', 'https://finance.yahoo.com/quote/INTC?p=INTC/profile', 'https://finance.yahoo.com/quote/META?p=META/profile']}\n"
     ]
    }
   ],
   "source": [
    "\"\"\"\n",
    "There is a list of most active Stocks on Yahoo Finance https://finance.yahoo.com/most-active.\n",
    "You need to compose several sheets based on data about companies from this list.\n",
    "To fetch data from webpage you can use requests lib. To parse html you can use beautiful soup lib or lxml.\n",
    "Sheets which are needed:\n",
    "1. 5 stocks with most youngest CEOs and print sheet to output. You can find CEO info in Profile tab of concrete stock.\n",
    "    Sheet's fields: Name, Code, Country, Employees, CEO Name, CEO Year Born.\n",
    "2. 10 stocks with best 52-Week Change. 52-Week Change placed on Statistics tab.\n",
    "    Sheet's fields: Name, Code, 52-Week Change, Total Cash\n",
    "3. 10 largest holds of Blackrock Inc. You can find related info on the Holders tab.\n",
    "    Blackrock Inc is an investment management corporation.\n",
    "    Sheet's fields: Name, Code, Shares, Date Reported, % Out, Value.\n",
    "    All fields except first two should be taken from Holders tab.\n",
    "\n",
    "\n",
    "Example for the first sheet (you need to use same sheet format):\n",
    "==================================== 5 stocks with most youngest CEOs ===================================\n",
    "| Name        | Code | Country       | Employees | CEO Name                             | CEO Year Born |\n",
    "---------------------------------------------------------------------------------------------------------\n",
    "| Pfizer Inc. | PFE  | United States | 78500     | Dr. Albert Bourla D.V.M., DVM, Ph.D. | 1962          |\n",
    "...\n",
    "\n",
    "About sheet format:\n",
    "- sheet title should be aligned to center\n",
    "- all columns should be aligned to the left\n",
    "- empty line after sheet\n",
    "\n",
    "Write at least 2 tests on your choose.\n",
    "Links:\n",
    "    - requests docs: https://docs.python-requests.org/en/latest/\n",
    "    - beautiful soup docs: https://www.crummy.com/software/BeautifulSoup/bs4/doc/\n",
    "    - lxml docs: https://lxml.de/\n",
    "\"\"\"\n",
    "\n",
    "import requests\n",
    "from bs4 import BeautifulSoup as soup\n",
    "import pandas as pd \n",
    "\n",
    "# collect links from original page\n",
    "# create df with year born, stock and ceo names for all stocks\n",
    "# filter the N/A then get the top 5 minimum values (maybe sort list)\n",
    "\n",
    "def get_page(url):\n",
    "    web_page = soup(requests.get(url, headers={'User-Agent': 'Custom'}).content, \"html.parser\")\n",
    "    return web_page\n",
    "\n",
    "def generate_stock_links_list():\n",
    "    stocks_page_body = get_page(\"https://finance.yahoo.com/most-active\").find('body')\n",
    "    table_body = stocks_page_body.select_one('table > tbody')\n",
    "    stocks = table_body.select('a')\n",
    "    stock_lst = [stock[\"href\"] for stock in stocks]\n",
    "    return stock_lst\n",
    "\n",
    "def generate_stock_dataframe():\n",
    "    # stock_df = pd.DataFrame(columns=[\"Stock Code\", \"CEO\", \"CEO Year Born\", \"Profile URI\"])\n",
    "    stock_dict = {}\n",
    "    profile_dict = []\n",
    "    stocks_lst = generate_stock_links_list()\n",
    "    base_uri = \"https://finance.yahoo.com\"\n",
    "    for stock_uri in stocks_lst:\n",
    "        profile_uri = base_uri + stock_uri + \"/profile\"\n",
    "        profile_dict.append(profile_uri)\n",
    "\n",
    "    stock_dict[\"Profile URI\"] = profile_dict\n",
    "        # stock_df.at = [profile_uri, \"\", \"\", \"\"]\n",
    "    # print(stock_details_nav_links)\n",
    "    # print(stock_df)\n",
    "    print(stock_dict)\n",
    "generate_stock_dataframe()\n",
    "        # profile_link = nav.select_one('a')['href'] for nav in stock_details_nav_links if nav['data-test'] == \"COMPANY_PROFILE\" else \"\"\n",
    "# with open('test_sheet.html', \"w\") as f:\n",
    "#     f.write(table_body.prettify())\n",
    "\n",
    "# with open('first_sheet.html', \"w\") as f:\n",
    "#         f.write(\"=\"*36)\n",
    "#         f.write(\"5 stocks with the youngest CEOs\")\n",
    "#         f.write(\"=\"*36)\n",
    "#         f.write(\"\\n\")\n",
    "\n",
    "#         f.write(\"| Name        | Code | Country       | Employees | CEO Name                             | CEO Year Born |\\n\")\n",
    "#         f.write(\"-\"*105)\n",
    "#         for stock in stocks:\n",
    "#             stock_name = stock['title']\n",
    "#             stock_code = stock.text\n",
    "#             f.write(f\"| {stock_name} | {stock_code}  |\\n\")\n",
    "       \n",
    "#         base_url = \"https://finance.yahoo.com\"\n",
    "#         stock_details_page = get_page(base_url + stocks[1]['href']).find('body')\n",
    "#         stock_details_nav_links = stock_details_page.select('section #quote-nav li')\n",
    "\n",
    "#         for nav in stock_details_nav_links:\n",
    "#             if nav['data-test'] == \"COMPANY_PROFILE\": \n",
    "#                 profile_link = nav.select_one('a')['href']\n",
    "\n",
    "#         profile_page = get_page(base_url + profile_link).find('body')\n",
    "#         print(base_url + profile_link)\n",
    "#         with open('test_sheet2.html', \"w\") as h:\n",
    "#             h.write(profile_page.prettify())\n",
    " \n"
   ]
  },
  {
   "cell_type": "code",
   "execution_count": 2,
   "metadata": {},
   "outputs": [
    {
     "data": {
      "text/html": [
       "<div>\n",
       "<style scoped>\n",
       "    .dataframe tbody tr th:only-of-type {\n",
       "        vertical-align: middle;\n",
       "    }\n",
       "\n",
       "    .dataframe tbody tr th {\n",
       "        vertical-align: top;\n",
       "    }\n",
       "\n",
       "    .dataframe thead th {\n",
       "        text-align: right;\n",
       "    }\n",
       "</style>\n",
       "<table border=\"1\" class=\"dataframe\">\n",
       "  <thead>\n",
       "    <tr style=\"text-align: right;\">\n",
       "      <th></th>\n",
       "      <th>Stock Code</th>\n",
       "      <th>CEO</th>\n",
       "      <th>CEO Year Born</th>\n",
       "    </tr>\n",
       "  </thead>\n",
       "  <tbody>\n",
       "  </tbody>\n",
       "</table>\n",
       "</div>"
      ],
      "text/plain": [
       "Empty DataFrame\n",
       "Columns: [Stock Code, CEO, CEO Year Born]\n",
       "Index: []"
      ]
     },
     "execution_count": 2,
     "metadata": {},
     "output_type": "execute_result"
    }
   ],
   "source": [
    "stock_df = pd.DataFrame(columns=[\"Stock Code\", \"CEO\", \"CEO Year Born\", \"Profile URI\"])\n",
    "stock_df"
   ]
  },
  {
   "cell_type": "code",
   "execution_count": 5,
   "metadata": {},
   "outputs": [
    {
     "name": "stdout",
     "output_type": "stream",
     "text": [
      "SQ?p=SQ/profile\n"
     ]
    }
   ],
   "source": [
    "print(\"https://finance.yahoo.com/quote/SQ?p=SQ/profile\"[len(\"https://finance.yahoo.com/quote/\"):])"
   ]
  },
  {
   "cell_type": "code",
   "execution_count": 7,
   "metadata": {},
   "outputs": [
    {
     "data": {
      "text/html": [
       "<div>\n",
       "<style scoped>\n",
       "    .dataframe tbody tr th:only-of-type {\n",
       "        vertical-align: middle;\n",
       "    }\n",
       "\n",
       "    .dataframe tbody tr th {\n",
       "        vertical-align: top;\n",
       "    }\n",
       "\n",
       "    .dataframe thead th {\n",
       "        text-align: right;\n",
       "    }\n",
       "</style>\n",
       "<table border=\"1\" class=\"dataframe\">\n",
       "  <thead>\n",
       "    <tr style=\"text-align: right;\">\n",
       "      <th></th>\n",
       "      <th>Stock Code</th>\n",
       "      <th>CEO</th>\n",
       "      <th>CEO Year Born</th>\n",
       "    </tr>\n",
       "  </thead>\n",
       "  <tbody>\n",
       "  </tbody>\n",
       "</table>\n",
       "</div>"
      ],
      "text/plain": [
       "Empty DataFrame\n",
       "Columns: [Stock Code, CEO, CEO Year Born]\n",
       "Index: []"
      ]
     },
     "execution_count": 7,
     "metadata": {},
     "output_type": "execute_result"
    }
   ],
   "source": [
    "stock_df"
   ]
  }
 ],
 "metadata": {
  "kernelspec": {
   "display_name": "Python 3",
   "language": "python",
   "name": "python3"
  },
  "language_info": {
   "codemirror_mode": {
    "name": "ipython",
    "version": 3
   },
   "file_extension": ".py",
   "mimetype": "text/x-python",
   "name": "python",
   "nbconvert_exporter": "python",
   "pygments_lexer": "ipython3",
   "version": "3.11.2"
  },
  "orig_nbformat": 4,
  "vscode": {
   "interpreter": {
    "hash": "aee8b7b246df8f9039afb4144a1f6fd8d2ca17a180786b69acc140d282b71a49"
   }
  }
 },
 "nbformat": 4,
 "nbformat_minor": 2
}
