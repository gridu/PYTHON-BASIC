{
 "cells": [
  {
   "cell_type": "code",
   "execution_count": 63,
   "metadata": {},
   "outputs": [
    {
     "ename": "TypeError",
     "evalue": "'<' not supported between instances of 'dict' and 'dict'",
     "output_type": "error",
     "traceback": [
      "\u001b[0;31m---------------------------------------------------------------------------\u001b[0m",
      "\u001b[0;31mTypeError\u001b[0m                                 Traceback (most recent call last)",
      "Cell \u001b[0;32mIn[63], line 60\u001b[0m\n\u001b[1;32m     58\u001b[0m stock_ceo_dob \u001b[39m=\u001b[39m \u001b[39mint\u001b[39m(stock_ceo_dob)\n\u001b[1;32m     59\u001b[0m \u001b[39mif\u001b[39;00m \u001b[39mlen\u001b[39m(stock_5_youngest_heap) \u001b[39m<\u001b[39m \u001b[39m5\u001b[39m:\n\u001b[0;32m---> 60\u001b[0m     heapq\u001b[39m.\u001b[39;49mheappush(stock_5_youngest_heap, {stock_ceo_name: stock_ceo_dob})\n\u001b[1;32m     61\u001b[0m \u001b[39melse\u001b[39;00m:\n\u001b[1;32m     62\u001b[0m     displaced_ceo \u001b[39m=\u001b[39m heapq\u001b[39m.\u001b[39mheappushpop(stock_5_youngest_heap, stock_ceo_dob)\n",
      "\u001b[0;31mTypeError\u001b[0m: '<' not supported between instances of 'dict' and 'dict'"
     ]
    }
   ],
   "source": [
    "\"\"\"About sheet format:\n",
    "- sheet title should be aligned to center\n",
    "- all columns should be aligned to the left\n",
    "- empty line after sheet\n",
    "\n",
    "Write at least 2 tests on your choose.\n",
    "Links:\n",
    "    - requests docs: https://docs.python-requests.org/en/latest/\n",
    "    - beautiful soup docs: https://www.crummy.com/software/BeautifulSoup/bs4/doc/\n",
    "    - lxml docs: https://lxml.de/\n",
    "\"\"\"\n",
    "\n",
    "import requests\n",
    "from bs4 import BeautifulSoup as soup\n",
    "import pandas as pd \n",
    "\n",
    "def get_page(url):\n",
    "    web_page = soup(requests.get(url, headers={'User-Agent': 'Custom'}).content, \"html.parser\")\n",
    "    return web_page\n",
    "\n",
    "# body = get_page('https://finance.yahoo.com/most-active?offset=0&count=217')\n",
    "body = get_page('https://finance.yahoo.com/most-active?offset=0&count=3')\n",
    "quote_links = body.select('a[data-test=\"quoteLink\"]')\n",
    "stock_symbols = [link.text for link in quote_links]\n",
    "\n",
    "stock_names = []\n",
    "stock_countries = []\n",
    "stock_employees = []\n",
    "stock_ceo_names_dobs = []\n",
    "\n",
    "stock_5_youngest_heap = []\n",
    "stock_5_youngest_names = []\n",
    "\n",
    "for symbol in stock_symbols:\n",
    "    profile_page = get_page(f\"https://finance.yahoo.com/quote/{symbol}/profile?p={symbol}\").find('body')\n",
    "    asset_profile = profile_page.select_one('div[data-test=\"asset-profile\"] [data-test=\"qsp-profile\"]')\n",
    "   \n",
    "    stock_name = asset_profile.select_one('h3').text.strip()\n",
    "    stock_country = asset_profile.select_one('p a').previous_sibling.previous_sibling\n",
    "    stock_num_employees = asset_profile.select_one('p:last-of-type span:last-of-type').text.replace(',', '')\n",
    "    \n",
    "    stock_ceo_table = profile_page.select_one('section.quote-subsection table tbody')\n",
    "\n",
    "    stock_names.append(stock_name)\n",
    "    stock_countries.append(stock_country)\n",
    "    stock_employees.append(stock_num_employees)\n",
    "\n",
    "    for stock_ceo in stock_ceo_table.select('tr'):\n",
    "        stock_ceo_name = stock_ceo.select_one('td:first-child').text\n",
    "        stock_ceo_dob = stock_ceo.select_one('td:nth-last-child(1)').text\n",
    "        if stock_ceo_dob != \"N/A\":\n",
    "            stock_ceo_dob = int(stock_ceo_dob)\n",
    "    print(stock_5_youngest_heap)\n",
    "                \n",
    "    # stock_ceo_names_dobs.append(';'.join(stock_ceo_dict))\n"
   ]
  },
  {
   "cell_type": "code",
   "execution_count": null,
   "metadata": {},
   "outputs": [
    {
     "data": {
      "text/html": [
       "<div>\n",
       "<style scoped>\n",
       "    .dataframe tbody tr th:only-of-type {\n",
       "        vertical-align: middle;\n",
       "    }\n",
       "\n",
       "    .dataframe tbody tr th {\n",
       "        vertical-align: top;\n",
       "    }\n",
       "\n",
       "    .dataframe thead th {\n",
       "        text-align: right;\n",
       "    }\n",
       "</style>\n",
       "<table border=\"1\" class=\"dataframe\">\n",
       "  <thead>\n",
       "    <tr style=\"text-align: right;\">\n",
       "      <th></th>\n",
       "      <th>Name</th>\n",
       "      <th>Code</th>\n",
       "      <th>Country</th>\n",
       "      <th>Employees</th>\n",
       "      <th>CEOs and DOB</th>\n",
       "    </tr>\n",
       "  </thead>\n",
       "  <tbody>\n",
       "    <tr>\n",
       "      <th>0</th>\n",
       "      <td>Alibaba Group Holding Limited</td>\n",
       "      <td>BABA</td>\n",
       "      <td>China</td>\n",
       "      <td>239740</td>\n",
       "      <td>Mr. Joseph C.  Tsai;Mr. Yong  Zhang;Mr. J. Mic...</td>\n",
       "    </tr>\n",
       "    <tr>\n",
       "      <th>1</th>\n",
       "      <td>IAA, Inc.</td>\n",
       "      <td>IAA</td>\n",
       "      <td>United States</td>\n",
       "      <td>4816</td>\n",
       "      <td>Mr. John W. Kett;Ms. Susan L. Healy;Mr. Maju P...</td>\n",
       "    </tr>\n",
       "    <tr>\n",
       "      <th>2</th>\n",
       "      <td>Carnival Corporation &amp; plc</td>\n",
       "      <td>CCL</td>\n",
       "      <td>United States</td>\n",
       "      <td>87000</td>\n",
       "      <td>Mr. Micky Meir Arison;Mr. Josh  Weinstein;Mr. ...</td>\n",
       "    </tr>\n",
       "  </tbody>\n",
       "</table>\n",
       "</div>"
      ],
      "text/plain": [
       "                            Name  Code        Country Employees                                       CEOs and DOB\n",
       "0  Alibaba Group Holding Limited  BABA          China    239740  Mr. Joseph C.  Tsai;Mr. Yong  Zhang;Mr. J. Mic...\n",
       "1                      IAA, Inc.   IAA  United States      4816  Mr. John W. Kett;Ms. Susan L. Healy;Mr. Maju P...\n",
       "2     Carnival Corporation & plc   CCL  United States     87000  Mr. Micky Meir Arison;Mr. Josh  Weinstein;Mr. ..."
      ]
     },
     "execution_count": 54,
     "metadata": {},
     "output_type": "execute_result"
    }
   ],
   "source": [
    "\n",
    "new_df = pd.DataFrame({'Name': stock_names, 'Code': stock_symbols, 'Country': stock_countries, 'Employees': stock_employees, 'CEOs and DOB': stock_ceo_names_dobs})\n",
    "new_df"
   ]
  },
  {
   "cell_type": "code",
   "execution_count": null,
   "metadata": {},
   "outputs": [
    {
     "name": "stdout",
     "output_type": "stream",
     "text": [
      "Mr. Joseph C.  Tsai;Mr. Yong  Zhang;Mr. J. Michael  Evans;Mr. Hong  Xu;Ms. Siying  Yu;Ms. Wenhong  Tong;Mr. Xiaofeng  Shao\n",
      "Mr. John W. Kett;Ms. Susan L. Healy;Mr. Maju P. Abraham;Mr. Sidney  Peryar;Mr. Timothy  O'Day;Mr. Christopher  Carlson\n",
      "Mr. Micky Meir Arison;Mr. Josh  Weinstein;Mr. David  Bernstein;Mr. Enrique  Miguez;Mr. Michael Olaf Thamm\n"
     ]
    }
   ],
   "source": [
    "\n"
   ]
  },
  {
   "cell_type": "code",
   "execution_count": 67,
   "metadata": {},
   "outputs": [
    {
     "ename": "TypeError",
     "evalue": "string indices must be integers, not 'str'",
     "output_type": "error",
     "traceback": [
      "\u001b[0;31m---------------------------------------------------------------------------\u001b[0m",
      "\u001b[0;31mTypeError\u001b[0m                                 Traceback (most recent call last)",
      "Cell \u001b[0;32mIn[67], line 9\u001b[0m\n\u001b[1;32m      7\u001b[0m sheet1\u001b[39m.\u001b[39mwrite(\u001b[39m\"\u001b[39m\u001b[39m-\u001b[39m\u001b[39m\"\u001b[39m\u001b[39m*\u001b[39m\u001b[39m105\u001b[39m)\n\u001b[1;32m      8\u001b[0m \u001b[39mfor\u001b[39;00m row \u001b[39min\u001b[39;00m new_df:\n\u001b[0;32m----> 9\u001b[0m     sheet1\u001b[39m.\u001b[39mwrite(\u001b[39mf\u001b[39m\u001b[39m\"\u001b[39m\u001b[39m| \u001b[39m\u001b[39m{\u001b[39;00mrow[\u001b[39m'\u001b[39;49m\u001b[39mCode\u001b[39;49m\u001b[39m'\u001b[39;49m]\u001b[39m}\u001b[39;00m\u001b[39m |\u001b[39m\u001b[39m\\n\u001b[39;00m\u001b[39m\"\u001b[39m)\n",
      "\u001b[0;31mTypeError\u001b[0m: string indices must be integers, not 'str'"
     ]
    }
   ],
   "source": [
    "with open('youngest_ceos_sheet', 'w', encoding=\"utf-8\") as sheet1:\n",
    "    sheet1.write(\"=\"*36)\n",
    "    sheet1.write(\"5 stocks with the youngest CEOs\")\n",
    "    sheet1.write(\"=\"*36)\n",
    "    sheet1.write(\"\\n\")\n",
    "    sheet1.write(\"| Name        | Code | Country       | Employees | CEO Name                             | CEO Year Born |\\n\")\n",
    "    sheet1.write(\"-\"*105)\n",
    "    # for row in new_df:\n",
    "    #     sheet1.write(f\"| {row['Code']} |\\n\")\n"
   ]
  }
 ],
 "metadata": {
  "kernelspec": {
   "display_name": "Python 3",
   "language": "python",
   "name": "python3"
  },
  "language_info": {
   "codemirror_mode": {
    "name": "ipython",
    "version": 3
   },
   "file_extension": ".py",
   "mimetype": "text/x-python",
   "name": "python",
   "nbconvert_exporter": "python",
   "pygments_lexer": "ipython3",
   "version": "3.11.2"
  },
  "orig_nbformat": 4,
  "vscode": {
   "interpreter": {
    "hash": "aee8b7b246df8f9039afb4144a1f6fd8d2ca17a180786b69acc140d282b71a49"
   }
  }
 },
 "nbformat": 4,
 "nbformat_minor": 2
}
